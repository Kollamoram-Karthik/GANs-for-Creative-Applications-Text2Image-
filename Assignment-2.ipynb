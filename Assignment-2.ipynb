{
  "cells": [
    {
      "cell_type": "markdown",
      "id": "7Pjuly3ZBDS0",
      "metadata": {
        "id": "7Pjuly3ZBDS0"
      },
      "source": [
        "**Fill the Code blocks according to the comments provided as hints**"
      ]
    },
    {
      "cell_type": "code",
      "execution_count": 1,
      "id": "7d78b116",
      "metadata": {
        "id": "7d78b116"
      },
      "outputs": [],
      "source": [
        "from sklearn.datasets import load_diabetes #We will use this dataset\n",
        "\n",
        "#import libraries for numpy, Linear regression, r2_score, train_test_split\n",
        "import numpy as np\n",
        "from sklearn.linear_model import LinearRegression\n",
        "from sklearn.metrics import r2_score\n",
        "from sklearn.model_selection import train_test_split"
      ]
    },
    {
      "cell_type": "code",
      "execution_count": 2,
      "id": "6b46625d",
      "metadata": {
        "id": "6b46625d"
      },
      "outputs": [],
      "source": [
        "X,y = load_diabetes(return_X_y=True)  #loading dataset"
      ]
    },
    {
      "cell_type": "code",
      "execution_count": 5,
      "id": "c2ad6cd1",
      "metadata": {
        "colab": {
          "base_uri": "https://localhost:8080/"
        },
        "id": "c2ad6cd1",
        "outputId": "18995bbc-ba7d-44cb-d7e3-e211e0e7b05a"
      },
      "outputs": [
        {
          "name": "stdout",
          "output_type": "stream",
          "text": [
            "shape of X : (442, 10)\n",
            "shape of y : (442,)\n"
          ]
        }
      ],
      "source": [
        "#print shape of X and y and write in a text block what do you observe about both \n",
        "print(\"shape of X :\", X.shape)\n",
        "print(\"shape of y :\", y.shape )"
      ]
    },
    {
      "cell_type": "markdown",
      "id": "DqLx9Kigj8qX",
      "metadata": {
        "id": "DqLx9Kigj8qX"
      },
      "source": [
        "The array X has 442 items, each having 10 features.  i.e, each item is represented as a 1D array with 10 elements in it. \n",
        "\n",
        "y is a 1D array of size 442, which mp means there are 442 values, each value corresponding to one of the items of X."
      ]
    },
    {
      "cell_type": "code",
      "execution_count": 6,
      "id": "a70d2eb2",
      "metadata": {
        "id": "a70d2eb2"
      },
      "outputs": [],
      "source": [
        "#split the dataset into Train(80%) and Test(20%)\n",
        "X_train, X_test, y_train, y_test = train_test_split(X,y, test_size = 0.2, random_state = 2)"
      ]
    },
    {
      "cell_type": "code",
      "execution_count": null,
      "id": "a8ec5613",
      "metadata": {
        "colab": {
          "base_uri": "https://localhost:8080/",
          "height": 74
        },
        "id": "a8ec5613",
        "outputId": "8a5412d7-dfb0-4b0f-bb07-7c558248b720"
      },
      "outputs": [],
      "source": [
        "#fit X,y in Linear Regression Model of sklearn\n",
        "lr = LinearRegression()\n",
        "lr.fit(X_train,y_train)"
      ]
    },
    {
      "cell_type": "code",
      "execution_count": 8,
      "id": "d3e3934e",
      "metadata": {
        "colab": {
          "base_uri": "https://localhost:8080/"
        },
        "id": "d3e3934e",
        "outputId": "aca266ce-c0f6-4508-a52a-6cb7def2806b"
      },
      "outputs": [
        {
          "name": "stdout",
          "output_type": "stream",
          "text": [
            "[  -9.15865318 -205.45432163  516.69374454  340.61999905 -895.5520019\n",
            "  561.22067904  153.89310954  126.73139688  861.12700152   52.42112238]\n",
            "151.88331005254167\n"
          ]
        }
      ],
      "source": [
        "#print coefficients and intercepts (in @d gradient descent in was only m and b but as it is n dimensional it will have n coefficients and 1 intercept)\n",
        "print(lr.coef_)\n",
        "print(lr.intercept_)"
      ]
    },
    {
      "cell_type": "code",
      "execution_count": 9,
      "id": "d8b0bb30",
      "metadata": {
        "colab": {
          "base_uri": "https://localhost:8080/"
        },
        "id": "d8b0bb30",
        "outputId": "b6f7e8ab-b68f-4f59-b50d-7f7f1bc87736"
      },
      "outputs": [
        {
          "data": {
            "text/plain": [
              "0.4399338661568968"
            ]
          },
          "execution_count": 9,
          "metadata": {},
          "output_type": "execute_result"
        }
      ],
      "source": [
        "#predict on X_test and calculate r2_score\n",
        "y_pred = lr.predict(X_test)\n",
        "r2_score(y_test, y_pred)"
      ]
    },
    {
      "cell_type": "code",
      "execution_count": 10,
      "id": "b5f8dc27",
      "metadata": {
        "colab": {
          "base_uri": "https://localhost:8080/"
        },
        "id": "b5f8dc27",
        "outputId": "d59d9c63-8394-46aa-b29b-18151d0fda47"
      },
      "outputs": [
        {
          "name": "stdout",
          "output_type": "stream",
          "text": [
            "(353, 10)\n"
          ]
        }
      ],
      "source": [
        "#print X_train shape\n",
        "print(X_train.shape)"
      ]
    },
    {
      "cell_type": "code",
      "execution_count": 16,
      "id": "777721d5",
      "metadata": {
        "id": "777721d5"
      },
      "outputs": [],
      "source": [
        "#Write GDregressor class\n",
        "\n",
        "class GDRegressor:\n",
        "    \n",
        "    def __init__(self,learning_rate,epochs):\n",
        "        \n",
        "        self.coef_ = None\n",
        "        self.intercept_ = None\n",
        "        self.lr = learning_rate\n",
        "        self.epochs = epochs\n",
        "        \n",
        "    def fit(self,X_train,y_train):\n",
        "        # init your coefs\n",
        "        self.intercept_ =  0         #initialise the intercept\n",
        "        self.coef_ = np.zeros(X_train.shape[1])         #initialise the array of coefficients according to number of coefficients\n",
        "        \n",
        "        for i in range(self.epochs):\n",
        "            # update all the coef and the intercept\n",
        "            y_hat = np.dot(X_train,self.coef_) + self.intercept_    #apply prediction formula i.e. (y_hat = coefficient*X + intercept) in terms of matrices coefficient and X   \n",
        "            intercept_derivative = -2 * np.sum(y_train - y_hat)           #find derivative matrix                        \n",
        "            self.intercept_ = self.intercept_ - (self.lr * ( intercept_derivative))   #update intercept using above intercept_derivative  \n",
        "            \n",
        "            coef_derivative = -2 *(np.dot(X_train.T,y_train-y_hat))   #derivative matrix for all coefficients in a single step        \n",
        "            self.coef_ = self.coef_ - (self.lr * coef_derivative)      #update intercept using coef_derivative                              \n",
        "        print(f\"coefficient:{self.coef_}\")\n",
        "        print(f\"intercept:{self.intercept_}\")     #print the coefficients array and the intercept\n",
        "    def predict(self,X_test):\n",
        "        return np.dot(X_test,self.coef_) + self.intercept_  #new prediction in the form of (y = coefficients*X + intercept) using matrices"
      ]
    },
    {
      "cell_type": "code",
      "execution_count": 17,
      "id": "4ecc1e6f",
      "metadata": {
        "id": "4ecc1e6f"
      },
      "outputs": [],
      "source": [
        "#call GDRegressor by keeping epochs and learning rate according to you and keep changing it for better results\n",
        "gd = GDRegressor(0.002,1000)\n"
      ]
    },
    {
      "cell_type": "code",
      "execution_count": 18,
      "id": "e7e6aec9",
      "metadata": {
        "colab": {
          "base_uri": "https://localhost:8080/"
        },
        "id": "e7e6aec9",
        "outputId": "98ec6575-17f9-413b-f1b1-9e2519548fb3"
      },
      "outputs": [
        {
          "name": "stdout",
          "output_type": "stream",
          "text": [
            "coefficient:[   3.04364164 -194.89653341  516.45441266  335.07627104  -50.40392668\n",
            " -128.0468783  -193.23185217   94.14712569  486.27391722   80.96450599]\n",
            "intercept:151.96964242023276\n"
          ]
        }
      ],
      "source": [
        "#fit X_train, y_train into GDRegressor object using function of the class\n",
        "gd.fit(X_train,y_train)\n"
      ]
    },
    {
      "cell_type": "code",
      "execution_count": 19,
      "id": "8e5e4410",
      "metadata": {
        "id": "8e5e4410"
      },
      "outputs": [],
      "source": [
        "#predict on X_test using function of the class\n",
        "y_pred = gd.predict(X_test)"
      ]
    },
    {
      "cell_type": "code",
      "execution_count": 20,
      "id": "84f66db7",
      "metadata": {
        "colab": {
          "base_uri": "https://localhost:8080/"
        },
        "id": "84f66db7",
        "outputId": "809d47f0-cf36-4d63-9f42-420c16d7a9a0"
      },
      "outputs": [
        {
          "data": {
            "text/plain": [
              "0.4505368395774372"
            ]
          },
          "execution_count": 20,
          "metadata": {},
          "output_type": "execute_result"
        }
      ],
      "source": [
        "#calculate r2_score to verify\n",
        "r2_score(y_test,y_pred)\n"
      ]
    }
  ],
  "metadata": {
    "colab": {
      "provenance": []
    },
    "kernelspec": {
      "display_name": "Python 3",
      "language": "python",
      "name": "python3"
    },
    "language_info": {
      "codemirror_mode": {
        "name": "ipython",
        "version": 3
      },
      "file_extension": ".py",
      "mimetype": "text/x-python",
      "name": "python",
      "nbconvert_exporter": "python",
      "pygments_lexer": "ipython3",
      "version": "3.11.1"
    }
  },
  "nbformat": 4,
  "nbformat_minor": 5
}
